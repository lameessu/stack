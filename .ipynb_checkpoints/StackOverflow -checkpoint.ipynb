{
 "cells": [
  {
   "cell_type": "markdown",
   "metadata": {},
   "source": [
    "# Stack Overflow Developer Survey (2017 to 2019) - Udacity Project Blogpost"
   ]
  },
  {
   "cell_type": "markdown",
   "metadata": {},
   "source": [
    "## Business Understanding"
   ]
  },
  {
   "cell_type": "markdown",
   "metadata": {},
   "source": [
    "From visitng the site https://insights.stackoverflow.com/survey StackOverflow has a yearly survey. Download the data for three years and combine in a single dataframe."
   ]
  },
  {
   "cell_type": "code",
   "execution_count": 4,
   "metadata": {},
   "outputs": [
    {
     "name": "stdout",
     "output_type": "stream",
     "text": [
      "survey_results_public_2019.csv contains 88883 records and 86 columns.\n"
     ]
    },
    {
     "name": "stderr",
     "output_type": "stream",
     "text": [
      "/anaconda3/lib/python3.7/site-packages/IPython/core/interactiveshell.py:3049: DtypeWarning: Columns (8,12,13,14,15,16,50,51,52,53,55,56,57,58,59,60,61,62,63,64,65,66,67,68,69,70,71,72,73,74,75,76,77,78,79,80,81,82,83,84,85,93,94,95,96,97,98,99,100,101,102,103,104,105,106,107,108,109,110,111,112,113,114,115,116,117,118,119,120,121,122,123,124,125,126,127,128) have mixed types. Specify dtype option on import or set low_memory=False.\n",
      "  interactivity=interactivity, compiler=compiler, result=result)\n"
     ]
    },
    {
     "name": "stdout",
     "output_type": "stream",
     "text": [
      "survey_results_public_2018.csv contains 98855 records and 130 columns.\n",
      "survey_results_public_2017.csv contains 51392 records and 155 columns.\n"
     ]
    },
    {
     "name": "stderr",
     "output_type": "stream",
     "text": [
      "/anaconda3/lib/python3.7/site-packages/ipykernel_launcher.py:18: FutureWarning: Sorting because non-concatenation axis is not aligned. A future version\n",
      "of pandas will change to not sort by default.\n",
      "\n",
      "To accept the future behavior, pass 'sort=False'.\n",
      "\n",
      "To retain the current behavior and silence the warning, pass 'sort=True'.\n",
      "\n"
     ]
    }
   ],
   "source": [
    "import numpy as np\n",
    "import pandas as pd\n",
    "import matplotlib.pyplot as plt\n",
    "import glob\n",
    "\n",
    "%matplotlib inline\n",
    "\n",
    "    \n",
    "files = glob.glob('survey_results_public*.csv')\n",
    "dfs = []\n",
    "for f in files:\n",
    "    df = pd.read_csv(f)\n",
    "    df['Year'] = f[f.find(\"_2\")+1:f.find(\".csv\")]\n",
    "    print (f+' contains '+ str(df.shape[0])+' records and '+str(df.shape[1])+' columns.')\n",
    "    dfs.append(df)\n",
    "    \n",
    "\n",
    "dfs[1] = dfs[1].drop('Salary',1)\n",
    "df = pd.concat(dfs, ignore_index=True)\n"
   ]
  },
  {
   "cell_type": "markdown",
   "metadata": {},
   "source": [
    "After reading the schema document, turns out that the 2018 data has a salary column that is not yearly like 2017 salary column in order to avoid mixed the data with different semantics I will drop the column"
   ]
  },
  {
   "cell_type": "markdown",
   "metadata": {},
   "source": [
    "## Data Understanding"
   ]
  },
  {
   "cell_type": "code",
   "execution_count": 5,
   "metadata": {},
   "outputs": [
    {
     "data": {
      "text/html": [
       "<div>\n",
       "<style scoped>\n",
       "    .dataframe tbody tr th:only-of-type {\n",
       "        vertical-align: middle;\n",
       "    }\n",
       "\n",
       "    .dataframe tbody tr th {\n",
       "        vertical-align: top;\n",
       "    }\n",
       "\n",
       "    .dataframe thead th {\n",
       "        text-align: right;\n",
       "    }\n",
       "</style>\n",
       "<table border=\"1\" class=\"dataframe\">\n",
       "  <thead>\n",
       "    <tr style=\"text-align: right;\">\n",
       "      <th></th>\n",
       "      <th>AdsPriorities1</th>\n",
       "      <th>AdsPriorities2</th>\n",
       "      <th>AdsPriorities3</th>\n",
       "      <th>AdsPriorities4</th>\n",
       "      <th>AdsPriorities5</th>\n",
       "      <th>AdsPriorities6</th>\n",
       "      <th>AdsPriorities7</th>\n",
       "      <th>AssessBenefits1</th>\n",
       "      <th>AssessBenefits10</th>\n",
       "      <th>AssessBenefits11</th>\n",
       "      <th>...</th>\n",
       "      <th>JobEmailPriorities2</th>\n",
       "      <th>JobEmailPriorities3</th>\n",
       "      <th>JobEmailPriorities4</th>\n",
       "      <th>JobEmailPriorities5</th>\n",
       "      <th>JobEmailPriorities6</th>\n",
       "      <th>JobEmailPriorities7</th>\n",
       "      <th>Respondent</th>\n",
       "      <th>Salary</th>\n",
       "      <th>StackOverflowSatisfaction</th>\n",
       "      <th>WorkWeekHrs</th>\n",
       "    </tr>\n",
       "  </thead>\n",
       "  <tbody>\n",
       "    <tr>\n",
       "      <th>count</th>\n",
       "      <td>60479.000000</td>\n",
       "      <td>60479.000000</td>\n",
       "      <td>60479.000000</td>\n",
       "      <td>60479.000000</td>\n",
       "      <td>60479.000000</td>\n",
       "      <td>60479.000000</td>\n",
       "      <td>60479.000000</td>\n",
       "      <td>64918.000000</td>\n",
       "      <td>64918.000000</td>\n",
       "      <td>64917.000000</td>\n",
       "      <td>...</td>\n",
       "      <td>46213.000000</td>\n",
       "      <td>46213.000000</td>\n",
       "      <td>46213.000000</td>\n",
       "      <td>46213.000000</td>\n",
       "      <td>46213.00000</td>\n",
       "      <td>46213.000000</td>\n",
       "      <td>239130.000000</td>\n",
       "      <td>12891.000000</td>\n",
       "      <td>36592.000000</td>\n",
       "      <td>64503.000000</td>\n",
       "    </tr>\n",
       "    <tr>\n",
       "      <th>mean</th>\n",
       "      <td>2.726880</td>\n",
       "      <td>3.805784</td>\n",
       "      <td>3.340945</td>\n",
       "      <td>3.782470</td>\n",
       "      <td>4.383604</td>\n",
       "      <td>5.138809</td>\n",
       "      <td>4.821459</td>\n",
       "      <td>1.884177</td>\n",
       "      <td>6.865061</td>\n",
       "      <td>5.838625</td>\n",
       "      <td>...</td>\n",
       "      <td>4.224309</td>\n",
       "      <td>3.796572</td>\n",
       "      <td>3.015602</td>\n",
       "      <td>3.443338</td>\n",
       "      <td>4.97425</td>\n",
       "      <td>4.836388</td>\n",
       "      <td>43051.217643</td>\n",
       "      <td>56298.480641</td>\n",
       "      <td>8.429875</td>\n",
       "      <td>42.127197</td>\n",
       "    </tr>\n",
       "    <tr>\n",
       "      <th>std</th>\n",
       "      <td>1.881078</td>\n",
       "      <td>1.821323</td>\n",
       "      <td>1.673485</td>\n",
       "      <td>1.844864</td>\n",
       "      <td>1.931746</td>\n",
       "      <td>1.853249</td>\n",
       "      <td>1.874895</td>\n",
       "      <td>1.880973</td>\n",
       "      <td>2.687617</td>\n",
       "      <td>2.706479</td>\n",
       "      <td>...</td>\n",
       "      <td>1.842500</td>\n",
       "      <td>2.082178</td>\n",
       "      <td>1.651321</td>\n",
       "      <td>1.983163</td>\n",
       "      <td>1.86063</td>\n",
       "      <td>1.659844</td>\n",
       "      <td>27163.224383</td>\n",
       "      <td>39880.905277</td>\n",
       "      <td>1.390635</td>\n",
       "      <td>37.287610</td>\n",
       "    </tr>\n",
       "    <tr>\n",
       "      <th>min</th>\n",
       "      <td>1.000000</td>\n",
       "      <td>1.000000</td>\n",
       "      <td>1.000000</td>\n",
       "      <td>1.000000</td>\n",
       "      <td>1.000000</td>\n",
       "      <td>1.000000</td>\n",
       "      <td>1.000000</td>\n",
       "      <td>1.000000</td>\n",
       "      <td>1.000000</td>\n",
       "      <td>1.000000</td>\n",
       "      <td>...</td>\n",
       "      <td>1.000000</td>\n",
       "      <td>1.000000</td>\n",
       "      <td>1.000000</td>\n",
       "      <td>1.000000</td>\n",
       "      <td>1.00000</td>\n",
       "      <td>1.000000</td>\n",
       "      <td>1.000000</td>\n",
       "      <td>0.000000</td>\n",
       "      <td>0.000000</td>\n",
       "      <td>1.000000</td>\n",
       "    </tr>\n",
       "    <tr>\n",
       "      <th>25%</th>\n",
       "      <td>1.000000</td>\n",
       "      <td>2.000000</td>\n",
       "      <td>2.000000</td>\n",
       "      <td>2.000000</td>\n",
       "      <td>3.000000</td>\n",
       "      <td>4.000000</td>\n",
       "      <td>3.000000</td>\n",
       "      <td>1.000000</td>\n",
       "      <td>5.000000</td>\n",
       "      <td>4.000000</td>\n",
       "      <td>...</td>\n",
       "      <td>3.000000</td>\n",
       "      <td>2.000000</td>\n",
       "      <td>2.000000</td>\n",
       "      <td>2.000000</td>\n",
       "      <td>4.00000</td>\n",
       "      <td>4.000000</td>\n",
       "      <td>20117.000000</td>\n",
       "      <td>26440.371839</td>\n",
       "      <td>8.000000</td>\n",
       "      <td>40.000000</td>\n",
       "    </tr>\n",
       "    <tr>\n",
       "      <th>50%</th>\n",
       "      <td>2.000000</td>\n",
       "      <td>4.000000</td>\n",
       "      <td>3.000000</td>\n",
       "      <td>4.000000</td>\n",
       "      <td>5.000000</td>\n",
       "      <td>6.000000</td>\n",
       "      <td>5.000000</td>\n",
       "      <td>1.000000</td>\n",
       "      <td>7.000000</td>\n",
       "      <td>6.000000</td>\n",
       "      <td>...</td>\n",
       "      <td>4.000000</td>\n",
       "      <td>4.000000</td>\n",
       "      <td>3.000000</td>\n",
       "      <td>3.000000</td>\n",
       "      <td>5.00000</td>\n",
       "      <td>5.000000</td>\n",
       "      <td>40227.500000</td>\n",
       "      <td>50000.000000</td>\n",
       "      <td>9.000000</td>\n",
       "      <td>40.000000</td>\n",
       "    </tr>\n",
       "    <tr>\n",
       "      <th>75%</th>\n",
       "      <td>4.000000</td>\n",
       "      <td>5.000000</td>\n",
       "      <td>5.000000</td>\n",
       "      <td>5.000000</td>\n",
       "      <td>6.000000</td>\n",
       "      <td>7.000000</td>\n",
       "      <td>7.000000</td>\n",
       "      <td>2.000000</td>\n",
       "      <td>9.000000</td>\n",
       "      <td>8.000000</td>\n",
       "      <td>...</td>\n",
       "      <td>6.000000</td>\n",
       "      <td>6.000000</td>\n",
       "      <td>4.000000</td>\n",
       "      <td>5.000000</td>\n",
       "      <td>7.00000</td>\n",
       "      <td>6.000000</td>\n",
       "      <td>64861.000000</td>\n",
       "      <td>80000.000000</td>\n",
       "      <td>10.000000</td>\n",
       "      <td>44.750000</td>\n",
       "    </tr>\n",
       "    <tr>\n",
       "      <th>max</th>\n",
       "      <td>7.000000</td>\n",
       "      <td>7.000000</td>\n",
       "      <td>7.000000</td>\n",
       "      <td>7.000000</td>\n",
       "      <td>7.000000</td>\n",
       "      <td>7.000000</td>\n",
       "      <td>7.000000</td>\n",
       "      <td>11.000000</td>\n",
       "      <td>11.000000</td>\n",
       "      <td>11.000000</td>\n",
       "      <td>...</td>\n",
       "      <td>7.000000</td>\n",
       "      <td>7.000000</td>\n",
       "      <td>7.000000</td>\n",
       "      <td>7.000000</td>\n",
       "      <td>7.00000</td>\n",
       "      <td>7.000000</td>\n",
       "      <td>101592.000000</td>\n",
       "      <td>197000.000000</td>\n",
       "      <td>10.000000</td>\n",
       "      <td>4850.000000</td>\n",
       "    </tr>\n",
       "  </tbody>\n",
       "</table>\n",
       "<p>8 rows × 50 columns</p>\n",
       "</div>"
      ],
      "text/plain": [
       "       AdsPriorities1  AdsPriorities2  AdsPriorities3  AdsPriorities4  \\\n",
       "count    60479.000000    60479.000000    60479.000000    60479.000000   \n",
       "mean         2.726880        3.805784        3.340945        3.782470   \n",
       "std          1.881078        1.821323        1.673485        1.844864   \n",
       "min          1.000000        1.000000        1.000000        1.000000   \n",
       "25%          1.000000        2.000000        2.000000        2.000000   \n",
       "50%          2.000000        4.000000        3.000000        4.000000   \n",
       "75%          4.000000        5.000000        5.000000        5.000000   \n",
       "max          7.000000        7.000000        7.000000        7.000000   \n",
       "\n",
       "       AdsPriorities5  AdsPriorities6  AdsPriorities7  AssessBenefits1  \\\n",
       "count    60479.000000    60479.000000    60479.000000     64918.000000   \n",
       "mean         4.383604        5.138809        4.821459         1.884177   \n",
       "std          1.931746        1.853249        1.874895         1.880973   \n",
       "min          1.000000        1.000000        1.000000         1.000000   \n",
       "25%          3.000000        4.000000        3.000000         1.000000   \n",
       "50%          5.000000        6.000000        5.000000         1.000000   \n",
       "75%          6.000000        7.000000        7.000000         2.000000   \n",
       "max          7.000000        7.000000        7.000000        11.000000   \n",
       "\n",
       "       AssessBenefits10  AssessBenefits11  ...  JobEmailPriorities2  \\\n",
       "count      64918.000000      64917.000000  ...         46213.000000   \n",
       "mean           6.865061          5.838625  ...             4.224309   \n",
       "std            2.687617          2.706479  ...             1.842500   \n",
       "min            1.000000          1.000000  ...             1.000000   \n",
       "25%            5.000000          4.000000  ...             3.000000   \n",
       "50%            7.000000          6.000000  ...             4.000000   \n",
       "75%            9.000000          8.000000  ...             6.000000   \n",
       "max           11.000000         11.000000  ...             7.000000   \n",
       "\n",
       "       JobEmailPriorities3  JobEmailPriorities4  JobEmailPriorities5  \\\n",
       "count         46213.000000         46213.000000         46213.000000   \n",
       "mean              3.796572             3.015602             3.443338   \n",
       "std               2.082178             1.651321             1.983163   \n",
       "min               1.000000             1.000000             1.000000   \n",
       "25%               2.000000             2.000000             2.000000   \n",
       "50%               4.000000             3.000000             3.000000   \n",
       "75%               6.000000             4.000000             5.000000   \n",
       "max               7.000000             7.000000             7.000000   \n",
       "\n",
       "       JobEmailPriorities6  JobEmailPriorities7     Respondent         Salary  \\\n",
       "count          46213.00000         46213.000000  239130.000000   12891.000000   \n",
       "mean               4.97425             4.836388   43051.217643   56298.480641   \n",
       "std                1.86063             1.659844   27163.224383   39880.905277   \n",
       "min                1.00000             1.000000       1.000000       0.000000   \n",
       "25%                4.00000             4.000000   20117.000000   26440.371839   \n",
       "50%                5.00000             5.000000   40227.500000   50000.000000   \n",
       "75%                7.00000             6.000000   64861.000000   80000.000000   \n",
       "max                7.00000             7.000000  101592.000000  197000.000000   \n",
       "\n",
       "       StackOverflowSatisfaction   WorkWeekHrs  \n",
       "count               36592.000000  64503.000000  \n",
       "mean                    8.429875     42.127197  \n",
       "std                     1.390635     37.287610  \n",
       "min                     0.000000      1.000000  \n",
       "25%                     8.000000     40.000000  \n",
       "50%                     9.000000     40.000000  \n",
       "75%                    10.000000     44.750000  \n",
       "max                    10.000000   4850.000000  \n",
       "\n",
       "[8 rows x 50 columns]"
      ]
     },
     "execution_count": 5,
     "metadata": {},
     "output_type": "execute_result"
    }
   ],
   "source": [
    "df.describe()"
   ]
  },
  {
   "cell_type": "code",
   "execution_count": 6,
   "metadata": {},
   "outputs": [
    {
     "data": {
      "text/plain": [
       "array(['AIDangerous', 'AIFuture', 'AIInteresting', 'AIResponsible',\n",
       "       'AdBlocker', 'AdBlockerDisable', 'AdBlockerReasons', 'AdsActions',\n",
       "       'AdsAgreeDisagree1', 'AdsAgreeDisagree2', 'AdsAgreeDisagree3',\n",
       "       'AdsPriorities1', 'AdsPriorities2', 'AdsPriorities3',\n",
       "       'AdsPriorities4', 'AdsPriorities5', 'AdsPriorities6',\n",
       "       'AdsPriorities7', 'Age', 'Age1stCode', 'AgreeDisagree1',\n",
       "       'AgreeDisagree2', 'AgreeDisagree3', 'AnnoyingUI',\n",
       "       'AssessBenefits1', 'AssessBenefits10', 'AssessBenefits11',\n",
       "       'AssessBenefits2', 'AssessBenefits3', 'AssessBenefits4',\n",
       "       'AssessBenefits5', 'AssessBenefits6', 'AssessBenefits7',\n",
       "       'AssessBenefits8', 'AssessBenefits9', 'AssessJob1', 'AssessJob10',\n",
       "       'AssessJob2', 'AssessJob3', 'AssessJob4', 'AssessJob5',\n",
       "       'AssessJob6', 'AssessJob7', 'AssessJob8', 'AssessJob9',\n",
       "       'AssessJobCommute', 'AssessJobCompensation', 'AssessJobDept',\n",
       "       'AssessJobDiversity', 'AssessJobExp', 'AssessJobFinances',\n",
       "       'AssessJobIndustry', 'AssessJobLeaders', 'AssessJobOffice',\n",
       "       'AssessJobProduct', 'AssessJobProfDevel', 'AssessJobProjects',\n",
       "       'AssessJobRemote', 'AssessJobRole', 'AssessJobTech',\n",
       "       'AuditoryEnvironment', 'BetterLife', 'BlockchainIs',\n",
       "       'BlockchainOrg', 'BoringDetails', 'BuildingThings', 'CareerSat',\n",
       "       'CareerSatisfaction', 'ChallengeMyself', 'ChangeWorld',\n",
       "       'CheckInCode', 'ClickyKeys', 'CodeRev', 'CodeRevHrs',\n",
       "       'CollaborateRemote', 'CommunicationTools', 'CompFreq', 'CompTotal',\n",
       "       'CompanySize', 'CompanyType', 'CompetePeers', 'Containers',\n",
       "       'ConvertedComp', 'ConvertedSalary', 'Country', 'CousinEducation',\n",
       "       'Currency', 'CurrencyDesc', 'CurrencySymbol',\n",
       "       'DatabaseDesireNextYear', 'DatabaseWorkedWith', 'Dependents',\n",
       "       'DevEnviron', 'DevType', 'DeveloperType', 'DifficultCommunication',\n",
       "       'DiversityImportant', 'EdLevel', 'EduOther', 'EducationImportant',\n",
       "       'EducationParents', 'EducationTypes', 'Employment',\n",
       "       'EmploymentStatus', 'EnjoyDebugging', 'EntTeams',\n",
       "       'EquipmentSatisfiedCPU', 'EquipmentSatisfiedMonitors',\n",
       "       'EquipmentSatisfiedRAM', 'EquipmentSatisfiedRW',\n",
       "       'EquipmentSatisfiedStorage', 'ErgonomicDevices',\n",
       "       'EthicalImplications', 'EthicsChoice', 'EthicsReport',\n",
       "       'EthicsResponsible', 'Ethnicity', 'ExCoder10Years',\n",
       "       'ExCoderActive', 'ExCoderBalance', 'ExCoderBelonged',\n",
       "       'ExCoderNotForMe', 'ExCoderReturn', 'ExCoderSkills',\n",
       "       'ExCoderWillNotCode', 'Exercise', 'ExpectedSalary', 'Extraversion',\n",
       "       'FizzBuzz', 'FormalEducation', 'FrameworkDesireNextYear',\n",
       "       'FrameworkWorkedWith', 'FriendsDevelopers', 'Gender',\n",
       "       'HackathonReasons', 'HaveWorkedDatabase', 'HaveWorkedFramework',\n",
       "       'HaveWorkedLanguage', 'HaveWorkedPlatform',\n",
       "       'HighestEducationParents', 'Hobby', 'Hobbyist', 'HomeRemote',\n",
       "       'HopeFiveYears', 'HoursComputer', 'HoursOutside', 'HoursPerWeek',\n",
       "       'HypotheticalTools1', 'HypotheticalTools2', 'HypotheticalTools3',\n",
       "       'HypotheticalTools4', 'HypotheticalTools5', 'IDE', 'ITperson',\n",
       "       'ImpSyn', 'ImportantBenefits', 'ImportantHiringAlgorithms',\n",
       "       'ImportantHiringCommunication', 'ImportantHiringCompanies',\n",
       "       'ImportantHiringEducation', 'ImportantHiringGettingThingsDone',\n",
       "       'ImportantHiringOpenSource', 'ImportantHiringPMExp',\n",
       "       'ImportantHiringRep', 'ImportantHiringTechExp',\n",
       "       'ImportantHiringTitles', 'InTheZone', 'InfluenceCloud',\n",
       "       'InfluenceCommunication', 'InfluenceConsultants',\n",
       "       'InfluenceDatabase', 'InfluenceDeptTech', 'InfluenceHardware',\n",
       "       'InfluenceInternet', 'InfluenceRecruitment', 'InfluenceServers',\n",
       "       'InfluenceTechStack', 'InfluenceVizTools', 'InfluenceWorkstation',\n",
       "       'InterestedAnswers', 'InvestTimeTools', 'JobContactPriorities1',\n",
       "       'JobContactPriorities2', 'JobContactPriorities3',\n",
       "       'JobContactPriorities4', 'JobContactPriorities5',\n",
       "       'JobEmailPriorities1', 'JobEmailPriorities2',\n",
       "       'JobEmailPriorities3', 'JobEmailPriorities4',\n",
       "       'JobEmailPriorities5', 'JobEmailPriorities6',\n",
       "       'JobEmailPriorities7', 'JobFactors', 'JobProfile', 'JobSat',\n",
       "       'JobSatisfaction', 'JobSearchStatus', 'JobSecurity', 'JobSeek',\n",
       "       'JobSeekingStatus', 'KinshipDevelopers', 'LanguageDesireNextYear',\n",
       "       'LanguageWorkedWith', 'LastHireDate', 'LastInt', 'LastNewJob',\n",
       "       'LearnedHiring', 'LearningNewTech', 'MainBranch', 'MajorUndergrad',\n",
       "       'Methodology', 'MetricAssess', 'MgrIdiot', 'MgrMoney', 'MgrWant',\n",
       "       'MilitaryUS', 'MiscTechDesireNextYear', 'MiscTechWorkedWith',\n",
       "       'MobileDeveloperType', 'NonDeveloperType', 'NumberMonitors',\n",
       "       'OffOn', 'OpSys', 'OpenSource', 'OpenSourcer', 'OperatingSystem',\n",
       "       'OrgSize', 'OtherPeoplesCode', 'Overpaid',\n",
       "       'PlatformDesireNextYear', 'PlatformWorkedWith', 'ProblemSolving',\n",
       "       'Professional', 'ProgramHobby', 'ProjectManagement',\n",
       "       'PronounceGIF', 'PurchaseHow', 'PurchaseWhat',\n",
       "       'QuestionsConfusing', 'QuestionsInteresting', 'Race',\n",
       "       'RaceEthnicity', 'Respondent', 'ResumePrompted', 'ResumeUpdate',\n",
       "       'RightWrongWay', 'SOAccount', 'SOComm', 'SOFindAnswer',\n",
       "       'SOHowMuchTime', 'SOJobs', 'SONewContent', 'SOPartFreq',\n",
       "       'SOTimeSaved', 'SOVisit1st', 'SOVisitFreq', 'SOVisitTo', 'Salary',\n",
       "       'SalaryType', 'ScreenName', 'SelfTaughtTypes', 'SeriousWork',\n",
       "       'SexualOrientation', 'Sexuality', 'ShipIt', 'SkipMeals',\n",
       "       'SocialMedia', 'StackOverflowAdsDistracting',\n",
       "       'StackOverflowAdsRelevant', 'StackOverflowAnswer',\n",
       "       'StackOverflowBetter', 'StackOverflowCommunity',\n",
       "       'StackOverflowCompanyPage', 'StackOverflowConsiderMember',\n",
       "       'StackOverflowCopiedCode', 'StackOverflowDescribes',\n",
       "       'StackOverflowDevStory', 'StackOverflowDevices',\n",
       "       'StackOverflowFoundAnswer', 'StackOverflowHasAccount',\n",
       "       'StackOverflowHelpful', 'StackOverflowJobListing',\n",
       "       'StackOverflowJobSearch', 'StackOverflowJobs',\n",
       "       'StackOverflowJobsRecommend', 'StackOverflowMakeMoney',\n",
       "       'StackOverflowMetaChat', 'StackOverflowModeration',\n",
       "       'StackOverflowNewQuestion', 'StackOverflowParticipate',\n",
       "       'StackOverflowRecommend', 'StackOverflowSatisfaction',\n",
       "       'StackOverflowVisit', 'StackOverflowWhatDo', 'Student',\n",
       "       'SurveyEase', 'SurveyEasy', 'SurveyLength', 'SurveyLong',\n",
       "       'SurveyTooLong', 'TabsSpaces', 'TimeAfterBootcamp',\n",
       "       'TimeFullyProductive', 'Trans', 'UndergradMajor',\n",
       "       'UnderstandComputers', 'UnitTests', 'University', 'UpdateCV',\n",
       "       'VersionControl', 'WakeTime', 'WantWorkDatabase',\n",
       "       'WantWorkFramework', 'WantWorkLanguage', 'WantWorkPlatform',\n",
       "       'WebDeveloperType', 'WebFrameDesireNextYear', 'WebFrameWorkedWith',\n",
       "       'WelcomeChange', 'WorkChallenge', 'WorkLoc', 'WorkPayCare',\n",
       "       'WorkPlan', 'WorkRemote', 'WorkStart', 'WorkWeekHrs', 'Year',\n",
       "       'YearsCode', 'YearsCodePro', 'YearsCodedJob', 'YearsCodedJobPast',\n",
       "       'YearsCoding', 'YearsCodingProf', 'YearsProgram'], dtype=object)"
      ]
     },
     "execution_count": 6,
     "metadata": {},
     "output_type": "execute_result"
    }
   ],
   "source": [
    "df.columns.values"
   ]
  },
  {
   "cell_type": "markdown",
   "metadata": {},
   "source": [
    "Limit the number of columns and select only thise needed to find answers to our questions."
   ]
  },
  {
   "cell_type": "code",
   "execution_count": 7,
   "metadata": {},
   "outputs": [],
   "source": [
    "c = ['Age','Salary','ConvertedSalary','ConvertedComp', 'Country', 'DeveloperType','DevType','EdLevel','Employment','EmploymentStatus','Ethnicity','FormalEducation', 'Gender','Race','RaceEthnicity', 'OpenSource','LanguageWorkedWith','HaveWorkedLanguage','Year']\n",
    "data = df[c]"
   ]
  },
  {
   "cell_type": "markdown",
   "metadata": {},
   "source": [
    "Inspect values and check the percentage of nulls."
   ]
  },
  {
   "cell_type": "code",
   "execution_count": 8,
   "metadata": {},
   "outputs": [],
   "source": [
    "def plot (df,x_axis,y_axis):\n",
    "    '''\n",
    "    input: \n",
    "            df: pandas dataframe to be plotted\n",
    "            x_axis: description of x axis\n",
    "            y_axis: description of y axis\n",
    "    output: return a plot bar for the dataframe\n",
    "    '''\n",
    "    df.plot.bar(figsize=(15,10))\n",
    "    plt.xlabel(x_axis)\n",
    "    plt.ylabel(y_axis)\n",
    "    return plt"
   ]
  },
  {
   "cell_type": "code",
   "execution_count": 9,
   "metadata": {},
   "outputs": [
    {
     "data": {
      "image/png": "[encoded data removed]",
      "text/plain": [
       "<Figure size 1080x720 with 1 Axes>"
      ]
     },
     "metadata": {
      "needs_background": "light"
     },
     "output_type": "display_data"
    }
   ],
   "source": [
    "#nan_count = df.groupby('Year').isnull().sum().sort_values(ascending=False)\n",
    "nan_count = data.groupby('Year').apply(lambda x: (x.isnull().sum()/(data.shape[0])) * 100)\n",
    "#missing_per = nan_count/(df.shape[0]) * 100\n",
    "#missing_per = missing_per[missing_per<50.0]\n",
    "#missing_per.sort_values(inplace=True)\n",
    "\n",
    "plot(nan_count.T,'Feature names with missing values', 'Percentage of missing values').show()\n",
    "\n"
   ]
  },
  {
   "cell_type": "markdown",
   "metadata": {},
   "source": [
    "After inspecting the schema for each year, we can see that there are common columns but with different naming for each year."
   ]
  },
  {
   "cell_type": "markdown",
   "metadata": {},
   "source": [
    "## Prepare Data\n",
    "\n",
    "Combine common columns with si,ilar semantics under a single column"
   ]
  },
  {
   "cell_type": "code",
   "execution_count": 10,
   "metadata": {},
   "outputs": [
    {
     "name": "stderr",
     "output_type": "stream",
     "text": [
      "/anaconda3/lib/python3.7/site-packages/IPython/core/interactiveshell.py:3296: SettingWithCopyWarning: \n",
      "A value is trying to be set on a copy of a slice from a DataFrame\n",
      "\n",
      "See the caveats in the documentation: http://pandas.pydata.org/pandas-docs/stable/indexing.html#indexing-view-versus-copy\n",
      "  exec(code_obj, self.user_global_ns, self.user_ns)\n"
     ]
    }
   ],
   "source": [
    "data['RaceEthnicity'].update(data.pop('Ethnicity'))\n",
    "data['RaceEthnicity'].update(data.pop('Race'))"
   ]
  },
  {
   "cell_type": "code",
   "execution_count": 11,
   "metadata": {},
   "outputs": [],
   "source": [
    "data['EdLevel'].update(data.pop('FormalEducation'))"
   ]
  },
  {
   "cell_type": "code",
   "execution_count": 12,
   "metadata": {},
   "outputs": [],
   "source": [
    "data['Employment'].update(data.pop('EmploymentStatus'))"
   ]
  },
  {
   "cell_type": "code",
   "execution_count": 13,
   "metadata": {},
   "outputs": [],
   "source": [
    "data['Salary'].update(data.pop('ConvertedSalary'))\n",
    "data['Salary'].update(data.pop('ConvertedComp'))"
   ]
  },
  {
   "cell_type": "code",
   "execution_count": 14,
   "metadata": {},
   "outputs": [],
   "source": [
    "data['DevType'].update(data.pop('DeveloperType'))"
   ]
  },
  {
   "cell_type": "code",
   "execution_count": 15,
   "metadata": {},
   "outputs": [],
   "source": [
    "data['LanguageWorkedWith'].update(data.pop('HaveWorkedLanguage'))"
   ]
  },
  {
   "cell_type": "code",
   "execution_count": 16,
   "metadata": {},
   "outputs": [
    {
     "data": {
      "text/html": [
       "<div>\n",
       "<style scoped>\n",
       "    .dataframe tbody tr th:only-of-type {\n",
       "        vertical-align: middle;\n",
       "    }\n",
       "\n",
       "    .dataframe tbody tr th {\n",
       "        vertical-align: top;\n",
       "    }\n",
       "\n",
       "    .dataframe thead th {\n",
       "        text-align: right;\n",
       "    }\n",
       "</style>\n",
       "<table border=\"1\" class=\"dataframe\">\n",
       "  <thead>\n",
       "    <tr style=\"text-align: right;\">\n",
       "      <th></th>\n",
       "      <th>Age</th>\n",
       "      <th>Salary</th>\n",
       "      <th>Country</th>\n",
       "      <th>DevType</th>\n",
       "      <th>EdLevel</th>\n",
       "      <th>Employment</th>\n",
       "      <th>Gender</th>\n",
       "      <th>RaceEthnicity</th>\n",
       "      <th>OpenSource</th>\n",
       "      <th>LanguageWorkedWith</th>\n",
       "      <th>Year</th>\n",
       "    </tr>\n",
       "    <tr>\n",
       "      <th>Year</th>\n",
       "      <th></th>\n",
       "      <th></th>\n",
       "      <th></th>\n",
       "      <th></th>\n",
       "      <th></th>\n",
       "      <th></th>\n",
       "      <th></th>\n",
       "      <th></th>\n",
       "      <th></th>\n",
       "      <th></th>\n",
       "      <th></th>\n",
       "    </tr>\n",
       "  </thead>\n",
       "  <tbody>\n",
       "    <tr>\n",
       "      <th>2017</th>\n",
       "      <td>51392</td>\n",
       "      <td>38501</td>\n",
       "      <td>0</td>\n",
       "      <td>15267</td>\n",
       "      <td>0</td>\n",
       "      <td>0</td>\n",
       "      <td>16345</td>\n",
       "      <td>18359</td>\n",
       "      <td>51392</td>\n",
       "      <td>14767</td>\n",
       "      <td>0</td>\n",
       "    </tr>\n",
       "    <tr>\n",
       "      <th>2018</th>\n",
       "      <td>34281</td>\n",
       "      <td>51153</td>\n",
       "      <td>412</td>\n",
       "      <td>6757</td>\n",
       "      <td>4152</td>\n",
       "      <td>3534</td>\n",
       "      <td>34386</td>\n",
       "      <td>41382</td>\n",
       "      <td>0</td>\n",
       "      <td>20521</td>\n",
       "      <td>0</td>\n",
       "    </tr>\n",
       "    <tr>\n",
       "      <th>2019</th>\n",
       "      <td>9673</td>\n",
       "      <td>33060</td>\n",
       "      <td>132</td>\n",
       "      <td>7548</td>\n",
       "      <td>2493</td>\n",
       "      <td>1702</td>\n",
       "      <td>3477</td>\n",
       "      <td>12215</td>\n",
       "      <td>2041</td>\n",
       "      <td>1314</td>\n",
       "      <td>0</td>\n",
       "    </tr>\n",
       "  </tbody>\n",
       "</table>\n",
       "</div>"
      ],
      "text/plain": [
       "        Age  Salary  Country  DevType  EdLevel  Employment  Gender  \\\n",
       "Year                                                                 \n",
       "2017  51392   38501        0    15267        0           0   16345   \n",
       "2018  34281   51153      412     6757     4152        3534   34386   \n",
       "2019   9673   33060      132     7548     2493        1702    3477   \n",
       "\n",
       "      RaceEthnicity  OpenSource  LanguageWorkedWith  Year  \n",
       "Year                                                       \n",
       "2017          18359       51392               14767     0  \n",
       "2018          41382           0               20521     0  \n",
       "2019          12215        2041                1314     0  "
      ]
     },
     "execution_count": 16,
     "metadata": {},
     "output_type": "execute_result"
    }
   ],
   "source": [
    "\n",
    "data.groupby('Year').apply(lambda x: x.isnull().sum())"
   ]
  },
  {
   "cell_type": "code",
   "execution_count": 18,
   "metadata": {
    "scrolled": false
   },
   "outputs": [
    {
     "data": {
      "image/png": "[encoded data removed]",
      "text/plain": [
       "<Figure size 1080x720 with 1 Axes>"
      ]
     },
     "metadata": {
      "needs_background": "light"
     },
     "output_type": "display_data"
    }
   ],
   "source": [
    "#nan_count = df.groupby('Year').isnull().sum().sort_values(ascending=False)\n",
    "nan_count = data.groupby('Year').apply(lambda x: (x.isnull().sum()/(data.shape[0])) * 100)\n",
    "#missing_per = nan_count/(df.shape[0]) * 100\n",
    "#missing_per = missing_per[missing_per<50.0]\n",
    "#missing_per.sort_values(inplace=True)\n",
    "\n",
    "plot(nan_count.T,'Feature names with missing values', 'Percentage of missing values').show()\n"
   ]
  },
  {
   "cell_type": "markdown",
   "metadata": {},
   "source": [
    "From the plot we can see that the number of null values has been reduced tremendously"
   ]
  },
  {
   "cell_type": "code",
   "execution_count": 47,
   "metadata": {},
   "outputs": [
    {
     "name": "stderr",
     "output_type": "stream",
     "text": [
      "/anaconda3/lib/python3.7/site-packages/ipykernel_launcher.py:1: SettingWithCopyWarning: \n",
      "A value is trying to be set on a copy of a slice from a DataFrame.\n",
      "Try using .loc[row_indexer,col_indexer] = value instead\n",
      "\n",
      "See the caveats in the documentation: http://pandas.pydata.org/pandas-docs/stable/indexing.html#indexing-view-versus-copy\n",
      "  \"\"\"Entry point for launching an IPython kernel.\n"
     ]
    }
   ],
   "source": [
    "data['id'] = range(1, len(data) + 1)"
   ]
  },
  {
   "cell_type": "markdown",
   "metadata": {},
   "source": [
    "### Question 1: Which languages were the most popular for each year?"
   ]
  },
  {
   "cell_type": "markdown",
   "metadata": {},
   "source": [
    "#### Prepare Data"
   ]
  },
  {
   "cell_type": "code",
   "execution_count": 48,
   "metadata": {},
   "outputs": [
    {
     "data": {
      "text/plain": [
       "Java                                                                                                                  2877\n",
       "Python                                                                                                                1687\n",
       "C#                                                                                                                    1594\n",
       "HTML/CSS;JavaScript;PHP;SQL                                                                                           1483\n",
       "C#;HTML/CSS;JavaScript;SQL                                                                                            1414\n",
       "JavaScript                                                                                                            1358\n",
       "C#;JavaScript;SQL;HTML;CSS                                                                                            1347\n",
       "C#; JavaScript; SQL                                                                                                   1276\n",
       "HTML/CSS;JavaScript                                                                                                   1247\n",
       "JavaScript;PHP;SQL;HTML;CSS                                                                                           1235\n",
       "JavaScript; PHP; SQL                                                                                                  1143\n",
       "C#;HTML/CSS;JavaScript;SQL;TypeScript                                                                                  990\n",
       "HTML/CSS;JavaScript;PHP                                                                                                910\n",
       "JavaScript;HTML;CSS                                                                                                    881\n",
       "C#;JavaScript;SQL;TypeScript;HTML;CSS                                                                                  828\n",
       "C#;SQL                                                                                                                 789\n",
       "JavaScript;PHP;SQL;HTML;CSS;Bash/Shell                                                                                 768\n",
       "JavaScript;PHP;HTML;CSS                                                                                                725\n",
       "HTML/CSS;JavaScript;TypeScript                                                                                         703\n",
       "C++                                                                                                                    685\n",
       "HTML/CSS;Java;JavaScript;SQL                                                                                           671\n",
       "JavaScript; PHP                                                                                                        662\n",
       "Java; JavaScript; SQL                                                                                                  645\n",
       "Java;SQL                                                                                                               643\n",
       "Objective-C;Swift                                                                                                      634\n",
       "Java; JavaScript                                                                                                       585\n",
       "Java;Kotlin                                                                                                            577\n",
       "Java;JavaScript                                                                                                        552\n",
       "Java;JavaScript;SQL;HTML;CSS                                                                                           530\n",
       "Bash/Shell/PowerShell;HTML/CSS;JavaScript;PHP;SQL                                                                      511\n",
       "                                                                                                                      ... \n",
       "Java;Objective-C;R;SQL;Delphi/Object Pascal                                                                              1\n",
       "C;C++;Java;Objective-C;Swift;HTML                                                                                        1\n",
       "JavaScript;Lua;PHP;Scala;HTML;CSS                                                                                        1\n",
       "C++;C#;Kotlin;PHP;Python;SQL                                                                                             1\n",
       "Go;Java;JavaScript;Ruby;TypeScript                                                                                       1\n",
       "C;C#;JavaScript;SQL;VBA;HTML;CSS                                                                                         1\n",
       "Assembly;CoffeeScript;JavaScript;Python;Ruby;Rust;SQL;Swift;HTML;CSS;Bash/Shell                                          1\n",
       "Assembly;C;C++;Java;Objective-C;PHP;SQL;Swift;VB.NET;HTML;CSS                                                            1\n",
       "Bash/Shell/PowerShell;C;Clojure;Go;HTML/CSS;Java;JavaScript;PHP;R;Scala;SQL                                              1\n",
       "C; C++; Java; JavaScript; PHP; Python; R; SQL; Swift                                                                     1\n",
       "Assembly;C;C++;C#;Groovy;Java;JavaScript;Matlab;Perl;PHP;Python;Ruby;SQL;VB.NET;Visual Basic 6;HTML;CSS;Bash/Shell       1\n",
       "Go;Java;JavaScript;PHP;Python;Scala;SQL;HTML;CSS;Bash/Shell                                                              1\n",
       "Bash/Shell/PowerShell;C++;C#;HTML/CSS;Java;JavaScript;Python;Scala;SQL                                                   1\n",
       "C;C++;Dart;HTML/CSS;Java;JavaScript;Objective-C;Rust;Swift                                                               1\n",
       "C;C++;C#;HTML/CSS;Java;JavaScript;Kotlin;PHP;Python;Ruby;SQL;TypeScript;WebAssembly                                      1\n",
       "Assembly;C++;Java;Python;Rust;SQL;Swift;Bash/Shell                                                                       1\n",
       "C;C++;HTML/CSS;JavaScript;VBA                                                                                            1\n",
       "Java;JavaScript;Matlab;Python;Kotlin;HTML                                                                                1\n",
       "C#;HTML/CSS;Java;Kotlin;PHP;Python;SQL                                                                                   1\n",
       "C;C++;Go;Java;JavaScript;Objective-C;Python;Ruby;SQL;Swift;HTML;CSS;Bash/Shell                                           1\n",
       "Java;Matlab;Delphi/Object Pascal                                                                                         1\n",
       "C;C++;C#;Hack;JavaScript;Objective-C;PHP;Swift;HTML;CSS                                                                  1\n",
       "C;C++;HTML/CSS;Java;JavaScript;Kotlin;SQL                                                                                1\n",
       "Assembly;Go;Java;JavaScript;PHP;Python;HTML;CSS;Bash/Shell                                                               1\n",
       "Bash/Shell/PowerShell;C;C++;HTML/CSS;Java;JavaScript;PHP;Python;Scala;SQL;TypeScript                                     1\n",
       "C++;C#;Perl;Python;R;SQL;VBA;HTML;Bash/Shell                                                                             1\n",
       "Assembly;Bash/Shell/PowerShell;C;Go;Other(s):                                                                            1\n",
       "C;C++;C#;Java;JavaScript;Matlab;PHP;Python;HTML;CSS;Bash/Shell                                                           1\n",
       "C;C++;C#;JavaScript;Perl;PHP;SQL;VBA;Delphi/Object Pascal;HTML;CSS;Bash/Shell                                            1\n",
       "C; C++; C#; Go; Haskell; Java; JavaScript; PHP; Python; Rust; SQL                                                        1\n",
       "Name: LanguageWorkedWith, Length: 54129, dtype: int64"
      ]
     },
     "execution_count": 48,
     "metadata": {},
     "output_type": "execute_result"
    }
   ],
   "source": [
    "data['LanguageWorkedWith'].value_counts()"
   ]
  },
  {
   "cell_type": "code",
   "execution_count": 21,
   "metadata": {},
   "outputs": [],
   "source": [
    "sep_lang= data[['LanguageWorkedWith','Year','id']].set_index(['Year','id']).apply(lambda x : x.str.split(';')).stack().apply(pd.Series).stack().unstack(level=2).reset_index(level=[0,1])"
   ]
  },
  {
   "cell_type": "code",
   "execution_count": 22,
   "metadata": {},
   "outputs": [],
   "source": [
    "sep_lang= sep_lang.drop('id',1)"
   ]
  },
  {
   "cell_type": "markdown",
   "metadata": {},
   "source": [
    "####  Data Analysis "
   ]
  },
  {
   "cell_type": "code",
   "execution_count": 23,
   "metadata": {},
   "outputs": [],
   "source": [
    "sep_lang['LanguageWorkedWith'] = sep_lang['LanguageWorkedWith'].apply(lambda x : x.replace(\" \", \"\").lower())"
   ]
  },
  {
   "cell_type": "code",
   "execution_count": 24,
   "metadata": {},
   "outputs": [],
   "source": [
    "#sep_lang.groupby(['Year','LanguageWorkedWith']).count()\n",
    "sep_lang['count'] =1 \n",
    "count = sep_lang.groupby(['Year','LanguageWorkedWith'])['count'].sum()#.size()#.reset_index(name='count') \n",
    "#count.groupby(['Year','LanguageWorkedWith'])['count']\n",
    "count = count.unstack().T"
   ]
  },
  {
   "cell_type": "code",
   "execution_count": 25,
   "metadata": {},
   "outputs": [
    {
     "data": {
      "image/png": "[encoded data removed]",
      "text/plain": [
       "<Figure size 1080x720 with 1 Axes>"
      ]
     },
     "metadata": {
      "needs_background": "light"
     },
     "output_type": "display_data"
    }
   ],
   "source": [
    "plot(count,'Language name', 'Number of users').show()"
   ]
  },
  {
   "cell_type": "code",
   "execution_count": 26,
   "metadata": {},
   "outputs": [
    {
     "data": {
      "text/plain": [
       "LanguageWorkedWith\n",
       "javascript               136780.0\n",
       "sql                      110968.0\n",
       "java                      85962.0\n",
       "python                    78506.0\n",
       "c#                        66527.0\n",
       "php                       57391.0\n",
       "html/css                  55466.0\n",
       "html                      53628.0\n",
       "css                       50979.0\n",
       "c++                       48551.0\n",
       "c                         43033.0\n",
       "typescript                35637.0\n",
       "bash/shell/powershell     31991.0\n",
       "bash/shell                31172.0\n",
       "ruby                      18566.0\n",
       "swift                     14422.0\n",
       "go                        14290.0\n",
       "assembly                  13416.0\n",
       "objective-c               12050.0\n",
       "r                         11495.0\n",
       "vba                       10165.0\n",
       "kotlin                     9128.0\n",
       "scala                      8038.0\n",
       "other(s):                  7920.0\n",
       "vb.net                     7527.0\n",
       "matlab                     6133.0\n",
       "rust                       5067.0\n",
       "perl                       4865.0\n",
       "groovy                     4566.0\n",
       "visualbasic6               4158.0\n",
       "coffeescript               3795.0\n",
       "lua                        3772.0\n",
       "clojure                    2677.0\n",
       "haskell                    2610.0\n",
       "f#                         2545.0\n",
       "delphi/objectpascal        2025.0\n",
       "erlang                     1944.0\n",
       "dart                       1828.0\n",
       "elixir                     1640.0\n",
       "webassembly                1015.0\n",
       "cobol                       590.0\n",
       "julia                       568.0\n",
       "ocaml                       470.0\n",
       "hack                        361.0\n",
       "smalltalk                   327.0\n",
       "commonlisp                  273.0\n",
       "dtype: float64"
      ]
     },
     "execution_count": 26,
     "metadata": {},
     "output_type": "execute_result"
    }
   ],
   "source": [
    "count.T.sum().sort_values(ascending=False)"
   ]
  },
  {
   "cell_type": "markdown",
   "metadata": {},
   "source": [
    "Since the visualisation is to crowded I opted to select overall top 10 languages. I descided no to combine html and css data as it would skew the number of total html and css users."
   ]
  },
  {
   "cell_type": "code",
   "execution_count": 41,
   "metadata": {},
   "outputs": [],
   "source": [
    "def getTop (grouped_df,k):\n",
    "    '''\n",
    "    input:  \n",
    "            grouped_df: indexed grouped dataframe with a count column\n",
    "            k: a int indicating the required num of elements\n",
    "    output: \n",
    "            top: top k values of grouped_df\n",
    "    '''\n",
    "    top = grouped_df.T.sum().sort_values(ascending=False).head(k).index.tolist()\n",
    "    return top"
   ]
  },
  {
   "cell_type": "code",
   "execution_count": 42,
   "metadata": {},
   "outputs": [
    {
     "data": {
      "image/png": "[encoded data removed]",
      "text/plain": [
       "<Figure size 1080x720 with 1 Axes>"
      ]
     },
     "metadata": {
      "needs_background": "light"
     },
     "output_type": "display_data"
    }
   ],
   "source": [
    "plot(count.loc[getTop(count,10)],'Language name', 'Number of users').show()"
   ]
  },
  {
   "cell_type": "markdown",
   "metadata": {},
   "source": [
    "#### Evaluate the Results "
   ]
  },
  {
   "cell_type": "markdown",
   "metadata": {},
   "source": [
    "From the chart it obvious that Javascript is the most popular language. "
   ]
  },
  {
   "cell_type": "markdown",
   "metadata": {},
   "source": [
    "### Question 2: Which countries had the most survey respondents in each year?"
   ]
  },
  {
   "cell_type": "markdown",
   "metadata": {},
   "source": [
    "#### Prepare Data"
   ]
  },
  {
   "cell_type": "code",
   "execution_count": 32,
   "metadata": {},
   "outputs": [
    {
     "name": "stderr",
     "output_type": "stream",
     "text": [
      "/anaconda3/lib/python3.7/site-packages/ipykernel_launcher.py:2: SettingWithCopyWarning: \n",
      "A value is trying to be set on a copy of a slice from a DataFrame.\n",
      "Try using .loc[row_indexer,col_indexer] = value instead\n",
      "\n",
      "See the caveats in the documentation: http://pandas.pydata.org/pandas-docs/stable/indexing.html#indexing-view-versus-copy\n",
      "  \n"
     ]
    }
   ],
   "source": [
    "q2 = data[['Country','Year']]\n",
    "q2['Country']= q2['Country'].apply(lambda x : str(x).replace(\" \", \"\").lower())"
   ]
  },
  {
   "cell_type": "code",
   "execution_count": 33,
   "metadata": {},
   "outputs": [
    {
     "name": "stderr",
     "output_type": "stream",
     "text": [
      "/anaconda3/lib/python3.7/site-packages/ipykernel_launcher.py:1: SettingWithCopyWarning: \n",
      "A value is trying to be set on a copy of a slice from a DataFrame.\n",
      "Try using .loc[row_indexer,col_indexer] = value instead\n",
      "\n",
      "See the caveats in the documentation: http://pandas.pydata.org/pandas-docs/stable/indexing.html#indexing-view-versus-copy\n",
      "  \"\"\"Entry point for launching an IPython kernel.\n"
     ]
    }
   ],
   "source": [
    "q2['count'] = 1\n",
    "q2_count = q2.groupby(['Country','Year'])['count'].count().unstack()"
   ]
  },
  {
   "cell_type": "markdown",
   "metadata": {},
   "source": [
    "As there are serveral formats for the same coutnries I will combine the results and settle on a single naming."
   ]
  },
  {
   "cell_type": "code",
   "execution_count": 34,
   "metadata": {},
   "outputs": [],
   "source": [
    "q2_count.loc['azerbaidjan'] = q2_count.loc['azerbaidjan'] + q2_count.loc['azerbaijan']\n",
    "q2_count.drop('azerbaijan',axis=0,inplace=True)\n",
    "q2_count.loc['bosnia-herzegovina'] = q2_count.loc['bosnia-herzegovina'] + q2_count.loc['bosniaandherzegovina']\n",
    "q2_count.drop('bosniaandherzegovina',axis=0,inplace=True)"
   ]
  },
  {
   "cell_type": "markdown",
   "metadata": {},
   "source": [
    "#### Data Analysis "
   ]
  },
  {
   "cell_type": "markdown",
   "metadata": {},
   "source": [
    "Get overal top contruies for visualization purposes."
   ]
  },
  {
   "cell_type": "code",
   "execution_count": 50,
   "metadata": {},
   "outputs": [
    {
     "data": {
      "text/plain": [
       "['unitedstates',\n",
       " 'india',\n",
       " 'germany',\n",
       " 'unitedkingdom',\n",
       " 'canada',\n",
       " 'france',\n",
       " 'russianfederation',\n",
       " 'poland',\n",
       " 'brazil',\n",
       " 'australia']"
      ]
     },
     "execution_count": 50,
     "metadata": {},
     "output_type": "execute_result"
    }
   ],
   "source": [
    "q2_count = q2.groupby(['Country','Year'])['count'].count().unstack()\n",
    "top = getTop(q2_count,10)\n",
    "top"
   ]
  },
  {
   "cell_type": "code",
   "execution_count": 51,
   "metadata": {},
   "outputs": [
    {
     "data": {
      "image/png": "[encoded data removed]",
      "text/plain": [
       "<Figure size 1080x720 with 1 Axes>"
      ]
     },
     "metadata": {
      "needs_background": "light"
     },
     "output_type": "display_data"
    }
   ],
   "source": [
    "plot(q2_count.loc[top],'Country','Number of respondent').show()"
   ]
  },
  {
   "cell_type": "markdown",
   "metadata": {},
   "source": [
    "#### Evaluate the Results"
   ]
  },
  {
   "cell_type": "markdown",
   "metadata": {},
   "source": [
    "From the plot we can see the most respondants were from the US for all of the year. Intrestingly, there was a huge jump in the number of respondants from India between the year 2017 and 2018."
   ]
  },
  {
   "cell_type": "markdown",
   "metadata": {},
   "source": [
    "### Question 3: What is the number of women compared to the men for each year?"
   ]
  },
  {
   "cell_type": "markdown",
   "metadata": {},
   "source": [
    "#### Prepare Data"
   ]
  },
  {
   "cell_type": "code",
   "execution_count": 37,
   "metadata": {},
   "outputs": [
    {
     "name": "stderr",
     "output_type": "stream",
     "text": [
      "/anaconda3/lib/python3.7/site-packages/ipykernel_launcher.py:2: SettingWithCopyWarning: \n",
      "A value is trying to be set on a copy of a slice from a DataFrame.\n",
      "Try using .loc[row_indexer,col_indexer] = value instead\n",
      "\n",
      "See the caveats in the documentation: http://pandas.pydata.org/pandas-docs/stable/indexing.html#indexing-view-versus-copy\n",
      "  \n",
      "/anaconda3/lib/python3.7/site-packages/ipykernel_launcher.py:3: SettingWithCopyWarning: \n",
      "A value is trying to be set on a copy of a slice from a DataFrame.\n",
      "Try using .loc[row_indexer,col_indexer] = value instead\n",
      "\n",
      "See the caveats in the documentation: http://pandas.pydata.org/pandas-docs/stable/indexing.html#indexing-view-versus-copy\n",
      "  This is separate from the ipykernel package so we can avoid doing imports until\n"
     ]
    },
    {
     "data": {
      "text/plain": [
       "Male                                                                         91047\n",
       "Man                                                                          77919\n",
       "nan                                                                          54208\n",
       "Female                                                                        6625\n",
       "Woman                                                                         6344\n",
       "Non-binary, genderqueer, or gender non-conforming                              881\n",
       "Other                                                                          225\n",
       "Man;Non-binary, genderqueer, or gender non-conforming                          181\n",
       "Male; Other                                                                    171\n",
       "Woman;Non-binary, genderqueer, or gender non-conforming                        163\n",
       "Transgender                                                                    160\n",
       "Gender non-conforming                                                          160\n",
       "Female;Transgender                                                             145\n",
       "Woman;Man                                                                      132\n",
       "Male;Non-binary, genderqueer, or gender non-conforming                         128\n",
       "Female;Male                                                                     98\n",
       "Woman;Man;Non-binary, genderqueer, or gender non-conforming                     70\n",
       "Male; Gender non-conforming                                                     65\n",
       "Female; Transgender                                                             56\n",
       "Transgender;Non-binary, genderqueer, or gender non-conforming                   51\n",
       "Female;Male;Transgender;Non-binary, genderqueer, or gender non-conforming       50\n",
       "Female;Non-binary, genderqueer, or gender non-conforming                        50\n",
       "Male;Transgender                                                                29\n",
       "Female; Gender non-conforming                                                   29\n",
       "Female;Transgender;Non-binary, genderqueer, or gender non-conforming            24\n",
       "Male; Female                                                                    15\n",
       "Male; Female; Transgender; Gender non-conforming; Other                         15\n",
       "Transgender; Gender non-conforming                                              15\n",
       "Female;Male;Transgender                                                         14\n",
       "Male; Transgender                                                               11\n",
       "Female; Transgender; Gender non-conforming                                       8\n",
       "Male; Female; Transgender; Gender non-conforming                                 7\n",
       "Male;Transgender;Non-binary, genderqueer, or gender non-conforming               5\n",
       "Gender non-conforming; Other                                                     4\n",
       "Male; Female; Transgender                                                        4\n",
       "Male; Transgender; Gender non-conforming                                         4\n",
       "Female;Male;Non-binary, genderqueer, or gender non-conforming                    3\n",
       "Male; Gender non-conforming; Other                                               3\n",
       "Male; Female; Other                                                              2\n",
       "Male; Female; Gender non-conforming; Other                                       1\n",
       "Female; Transgender; Other                                                       1\n",
       "Female; Other                                                                    1\n",
       "Female; Gender non-conforming; Other                                             1\n",
       "Male; Female; Transgender; Other                                                 1\n",
       "Female; Transgender; Gender non-conforming; Other                                1\n",
       "Male; Female; Gender non-conforming                                              1\n",
       "Transgender; Other                                                               1\n",
       "Male; Transgender; Other                                                         1\n",
       "Name: Gender, dtype: int64"
      ]
     },
     "execution_count": 37,
     "metadata": {},
     "output_type": "execute_result"
    }
   ],
   "source": [
    "q3 = data[['Gender','Year']]\n",
    "q3['Gender'] = q3['Gender'].astype(str)\n",
    "q3['Year'] = q3['Year'].astype(str)\n",
    "\n",
    "q3.Gender.value_counts()"
   ]
  },
  {
   "cell_type": "code",
   "execution_count": 38,
   "metadata": {},
   "outputs": [
    {
     "name": "stderr",
     "output_type": "stream",
     "text": [
      "/anaconda3/lib/python3.7/site-packages/pandas/core/generic.py:8682: SettingWithCopyWarning: \n",
      "A value is trying to be set on a copy of a slice from a DataFrame\n",
      "\n",
      "See the caveats in the documentation: http://pandas.pydata.org/pandas-docs/stable/indexing.html#indexing-view-versus-copy\n",
      "  self._update_inplace(new_data)\n"
     ]
    },
    {
     "data": {
      "text/plain": [
       "Male      168966\n",
       "Other      57195\n",
       "Female     12969\n",
       "Name: Gender, dtype: int64"
      ]
     },
     "execution_count": 38,
     "metadata": {},
     "output_type": "execute_result"
    }
   ],
   "source": [
    "q3['Gender'][q3['Gender'] == 'Woman']= 'Female'\n",
    "q3['Gender'][q3['Gender'] == 'Man'] = 'Male'\n",
    "q3['Gender'][~q3['Gender'].isin(['Female' , 'Male'])] = 'Other'\n",
    "\n",
    "q3.Gender.value_counts()"
   ]
  },
  {
   "cell_type": "markdown",
   "metadata": {},
   "source": [
    "#### Data Analysis"
   ]
  },
  {
   "cell_type": "code",
   "execution_count": 39,
   "metadata": {},
   "outputs": [
    {
     "name": "stderr",
     "output_type": "stream",
     "text": [
      "/anaconda3/lib/python3.7/site-packages/ipykernel_launcher.py:1: SettingWithCopyWarning: \n",
      "A value is trying to be set on a copy of a slice from a DataFrame.\n",
      "Try using .loc[row_indexer,col_indexer] = value instead\n",
      "\n",
      "See the caveats in the documentation: http://pandas.pydata.org/pandas-docs/stable/indexing.html#indexing-view-versus-copy\n",
      "  \"\"\"Entry point for launching an IPython kernel.\n"
     ]
    },
    {
     "data": {
      "image/png": "[encoded data removed]",
      "text/plain": [
       "<Figure size 1080x720 with 1 Axes>"
      ]
     },
     "metadata": {
      "needs_background": "light"
     },
     "output_type": "display_data"
    }
   ],
   "source": [
    "q3['count'] = 1\n",
    "q3_count = q3.groupby(['Gender','Year'])['count'].count().unstack()\n",
    "plot(q3_count.T,'Country','Number of respondent').show()"
   ]
  },
  {
   "cell_type": "markdown",
   "metadata": {},
   "source": [
    "#### Evaluate the Results"
   ]
  },
  {
   "cell_type": "markdown",
   "metadata": {},
   "source": [
    "We can see that the number of men outnumbers the women. However, there an increase in the number of women for each year compared to the previous year."
   ]
  },
  {
   "cell_type": "code",
   "execution_count": 40,
   "metadata": {},
   "outputs": [
    {
     "data": {
      "text/plain": [
       "Year\n",
       "2017    0.082307\n",
       "2018    0.067695\n",
       "2019    0.081418\n",
       "dtype: float64"
      ]
     },
     "execution_count": 40,
     "metadata": {},
     "output_type": "execute_result"
    }
   ],
   "source": [
    "q3_count.loc['Female']/q3_count.loc['Male']"
   ]
  },
  {
   "cell_type": "code",
   "execution_count": null,
   "metadata": {},
   "outputs": [],
   "source": []
  }
 ],
 "metadata": {
  "kernelspec": {
   "display_name": "Python 3",
   "language": "python",
   "name": "python3"
  },
  "language_info": {
   "codemirror_mode": {
    "name": "ipython",
    "version": 3
   },
   "file_extension": ".py",
   "mimetype": "text/x-python",
   "name": "python",
   "nbconvert_exporter": "python",
   "pygments_lexer": "ipython3",
   "version": "3.7.3"
  }
 },
 "nbformat": 4,
 "nbformat_minor": 2
}
